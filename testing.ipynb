{
 "cells": [
  {
   "cell_type": "markdown",
   "metadata": {},
   "source": [
    "# Imports"
   ]
  },
  {
   "cell_type": "code",
   "execution_count": 14,
   "metadata": {},
   "outputs": [],
   "source": [
    "import asyncio\n",
    "import threading\n",
    "import time"
   ]
  },
  {
   "cell_type": "markdown",
   "metadata": {},
   "source": [
    "# Async"
   ]
  },
  {
   "cell_type": "markdown",
   "metadata": {},
   "source": [
    "### Defining functions"
   ]
  },
  {
   "cell_type": "code",
   "execution_count": 15,
   "metadata": {},
   "outputs": [],
   "source": [
    "async def count_async():\n",
    "    for i in range(1, 100000001):\n",
    "        if i % 10000000 == 0:\n",
    "            print(f\"Counted to {i} asynchronously\")\n",
    "\n",
    "def count_sync():\n",
    "    for i in range(1, 100000001):\n",
    "        if i % 10000000 == 0:\n",
    "            print(f\"Counted to {i} synchronously\")"
   ]
  },
  {
   "cell_type": "markdown",
   "metadata": {},
   "source": [
    "### Running Counter"
   ]
  },
  {
   "cell_type": "code",
   "execution_count": 16,
   "metadata": {},
   "outputs": [
    {
     "name": "stdout",
     "output_type": "stream",
     "text": [
      "Counted to 10000000 asynchronously\n",
      "Counted to 20000000 asynchronously\n",
      "Counted to 30000000 asynchronously\n",
      "Counted to 40000000 asynchronously\n",
      "Counted to 50000000 asynchronously\n",
      "Counted to 60000000 asynchronously\n",
      "Counted to 70000000 asynchronously\n",
      "Counted to 80000000 asynchronously\n",
      "Counted to 90000000 asynchronously\n",
      "Counted to 100000000 asynchronously\n",
      "Counted to 10000000 synchronously\n",
      "Counted to 20000000 synchronously\n",
      "Counted to 30000000 synchronously\n",
      "Counted to 40000000 synchronously\n",
      "Counted to 50000000 synchronously\n",
      "Counted to 60000000 synchronously\n",
      "Counted to 70000000 synchronously\n",
      "Counted to 80000000 synchronously\n",
      "Counted to 90000000 synchronously\n",
      "Counted to 100000000 synchronously\n",
      "Async function took 6.99 seconds\n",
      "Sync function took 7.00 seconds\n"
     ]
    }
   ],
   "source": [
    "start_time = time.time()\n",
    "await count_async()\n",
    "async_duration = time.time() - start_time\n",
    "\n",
    "start_time = time.time()\n",
    "count_sync()\n",
    "sync_duration = time.time() - start_time\n",
    "print(f\"Async function took {async_duration:.2f} seconds\")\n",
    "print(f\"Sync function took {sync_duration:.2f} seconds\")"
   ]
  },
  {
   "cell_type": "markdown",
   "metadata": {},
   "source": [
    "# Threading"
   ]
  },
  {
   "cell_type": "markdown",
   "metadata": {},
   "source": [
    "### Defining Functions"
   ]
  },
  {
   "cell_type": "code",
   "execution_count": 27,
   "metadata": {},
   "outputs": [],
   "source": [
    "def thread_function():\n",
    "    print(\"Thread started\")\n",
    "    time.sleep(1)\n",
    "    print(\"Thread finished\")\n",
    "\n",
    "def count(n):\n",
    "    for i in range(1, n + 1):\n",
    "        print(f\"Counted to {i} in thread\")\n",
    "        time.sleep(.01)\n",
    "\n",
    "def count2(n):\n",
    "    for i in range(1, n + 1):\n",
    "        print(f\"Counted to {i} in thread\")\n",
    "        time.sleep(.02)"
   ]
  },
  {
   "cell_type": "markdown",
   "metadata": {},
   "source": [
    "### Execution"
   ]
  },
  {
   "cell_type": "code",
   "execution_count": null,
   "metadata": {},
   "outputs": [
    {
     "name": "stdout",
     "output_type": "stream",
     "text": [
      "Counted to 1 in thread\n",
      "Counted to 1 in thread\n",
      "8\n",
      "Finished main thread\n"
     ]
    },
    {
     "name": "stderr",
     "output_type": "stream",
     "text": [
      "C:\\Users\\Jonas\\AppData\\Local\\Temp\\ipykernel_9196\\2287916731.py:9: DeprecationWarning: activeCount() is deprecated, use active_count() instead\n",
      "  print(threading.activeCount())\n"
     ]
    },
    {
     "name": "stdout",
     "output_type": "stream",
     "text": [
      "Counted to 2 in thread\n"
     ]
    },
    {
     "name": "stdout",
     "output_type": "stream",
     "text": [
      "Counted to 3 in thread\n",
      "Counted to 2 in thread\n",
      "Counted to 4 in thread\n",
      "Counted to 5 in thread\n",
      "Counted to 3 in thread\n",
      "Counted to 6 in thread\n",
      "Counted to 7 in thread\n",
      "Counted to 4 in thread\n",
      "Counted to 8 in thread\n",
      "Counted to 9 in thread\n",
      "Counted to 5 in thread\n",
      "Counted to 10 in thread\n",
      "Counted to 6 in thread\n",
      "Counted to 7 in thread\n",
      "Counted to 8 in thread\n",
      "Counted to 9 in thread\n",
      "Counted to 10 in thread\n"
     ]
    }
   ],
   "source": [
    "for i in range(1, 2):\n",
    "    x = threading.Thread(target=count, args=(i * 10,))\n",
    "    x.start()\n",
    "\n",
    "for i in range(1, 2):\n",
    "    y = threading.Thread(target=count2, args=(i * 10,))\n",
    "    y.start()\n",
    "\n",
    "print(threading.activeCount())\n",
    "\n",
    "print(\"Finished main thread\")"
   ]
  }
 ],
 "metadata": {
  "kernelspec": {
   "display_name": "Python 3",
   "language": "python",
   "name": "python3"
  },
  "language_info": {
   "codemirror_mode": {
    "name": "ipython",
    "version": 3
   },
   "file_extension": ".py",
   "mimetype": "text/x-python",
   "name": "python",
   "nbconvert_exporter": "python",
   "pygments_lexer": "ipython3",
   "version": "3.10.11"
  }
 },
 "nbformat": 4,
 "nbformat_minor": 2
}
